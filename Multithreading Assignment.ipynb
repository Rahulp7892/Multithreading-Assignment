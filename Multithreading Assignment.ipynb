{
 "cells": [
  {
   "cell_type": "code",
   "execution_count": 1,
   "id": "db1d1947-72a0-4231-9bef-157281a3cebe",
   "metadata": {},
   "outputs": [],
   "source": [
    "#Q.1 What is multithreading in python?Why is it used ? Name the modules used to handle threads in python"
   ]
  },
  {
   "cell_type": "code",
   "execution_count": 5,
   "id": "4ad2b809-78cc-4014-908f-ab989dbee159",
   "metadata": {},
   "outputs": [
    {
     "name": "stdout",
     "output_type": "stream",
     "text": [
      "0\n",
      "1\n",
      "2\n",
      "3\n",
      "4\n",
      "a\n",
      "b\n",
      "c\n",
      "d\n",
      "e\n"
     ]
    }
   ],
   "source": [
    "import threading\n",
    "\n",
    "def print_numbers():\n",
    "    for i in range(5):\n",
    "        print(i)\n",
    "\n",
    "def print_letters():\n",
    "    for letter in 'abcde':\n",
    "        print(letter)\n",
    "\n",
    "thread1 = threading.Thread(target=print_numbers)\n",
    "thread2 = threading.Thread(target=print_letters)\n",
    "\n",
    "thread1.start()\n",
    "thread2.start()\n",
    "\n",
    "thread1.join()\n",
    "thread2.join()"
   ]
  },
  {
   "cell_type": "code",
   "execution_count": 6,
   "id": "01207539-8547-401f-a783-a4a71434376d",
   "metadata": {},
   "outputs": [
    {
     "name": "stdout",
     "output_type": "stream",
     "text": [
      "0\n",
      "1\n",
      "4\n",
      "9\n",
      "16\n",
      "25\n",
      "36\n",
      "49\n",
      "64\n",
      "81\n"
     ]
    }
   ],
   "source": [
    "from concurrent.futures import ThreadPoolExecutor\n",
    "\n",
    "def task(n):\n",
    "    return n * n\n",
    "\n",
    "with ThreadPoolExecutor(max_workers=4) as executor:\n",
    "    results = executor.map(task, range(10))\n",
    "\n",
    "for result in results:\n",
    "    print(result)"
   ]
  },
  {
   "cell_type": "code",
   "execution_count": 7,
   "id": "405d94e7-01cc-4986-8562-5bf5383f93d4",
   "metadata": {},
   "outputs": [
    {
     "name": "stdout",
     "output_type": "stream",
     "text": [
      "Processing item: 0\n",
      "Processing item: 1\n",
      "Processing item: 2\n",
      "Processing item: 3\n",
      "Processing item: 4\n",
      "Processing item: 5\n",
      "Processing item: 6\n",
      "Processing item: 7\n",
      "Processing item: 8\n",
      "Processing item: 9\n"
     ]
    }
   ],
   "source": [
    "import threading\n",
    "import queue\n",
    "\n",
    "def worker(q):\n",
    "    while not q.empty():\n",
    "        item = q.get()\n",
    "        print(f\"Processing item: {item}\")\n",
    "        q.task_done()\n",
    "\n",
    "q = queue.Queue()\n",
    "for item in range(10):\n",
    "    q.put(item)\n",
    "\n",
    "threads = []\n",
    "for _ in range(4):\n",
    "    t = threading.Thread(target=worker, args=(q,))\n",
    "    t.start()\n",
    "    threads.append(t)\n",
    "\n",
    "for t in threads:\n",
    "    t.join()"
   ]
  },
  {
   "cell_type": "code",
   "execution_count": 8,
   "id": "67ef8b87-b47f-42db-9669-0ebab202ef0f",
   "metadata": {},
   "outputs": [],
   "source": [
    "#Q.2 Why threading modules used ? Write the use of the following function: \n",
    "#1. active count() \n",
    "#2. current Thread() \n",
    "#3. enumerate()"
   ]
  },
  {
   "cell_type": "code",
   "execution_count": 9,
   "id": "4fe620eb-db49-4078-af8f-a2bb6f5f33df",
   "metadata": {},
   "outputs": [
    {
     "name": "stdout",
     "output_type": "stream",
     "text": [
      "Number of active threads: 13\n",
      "Number of active threads after completion: 8\n"
     ]
    }
   ],
   "source": [
    "import threading\n",
    "import time\n",
    "\n",
    "def worker():\n",
    "    time.sleep(2)\n",
    "\n",
    "threads = [threading.Thread(target=worker) for _ in range(5)]\n",
    "for t in threads:\n",
    "    t.start()\n",
    "\n",
    "print(f\"Number of active threads: {threading.active_count()}\")\n",
    "\n",
    "for t in threads:\n",
    "    t.join()\n",
    "\n",
    "print(f\"Number of active threads after completion: {threading.active_count()}\")"
   ]
  },
  {
   "cell_type": "code",
   "execution_count": 10,
   "id": "56129df5-b7a4-4d97-ad60-7ee1885932f9",
   "metadata": {},
   "outputs": [
    {
     "name": "stdout",
     "output_type": "stream",
     "text": [
      "Current thread: WorkerThread\n"
     ]
    }
   ],
   "source": [
    "import threading\n",
    "\n",
    "def worker():\n",
    "    current_thread = threading.current_thread()\n",
    "    print(f\"Current thread: {current_thread.name}\")\n",
    "\n",
    "thread = threading.Thread(target=worker, name=\"WorkerThread\")\n",
    "thread.start()\n",
    "thread.join()"
   ]
  },
  {
   "cell_type": "code",
   "execution_count": 12,
   "id": "0e8fd81b-a9ac-4ac0-b1bb-05f46b645e5f",
   "metadata": {},
   "outputs": [
    {
     "name": "stdout",
     "output_type": "stream",
     "text": [
      "List of all threads: [<_MainThread(MainThread, started 130905503266624)>, <Thread(IOPub, started daemon 130905432737344)>, <Heartbeat(Heartbeat, started daemon 130905424344640)>, <Thread(Thread-3 (_watch_pipe_fd), started daemon 130905399166528)>, <Thread(Thread-4 (_watch_pipe_fd), started daemon 130905390773824)>, <ControlThread(Control, started daemon 130905382381120)>, <HistorySavingThread(IPythonHistorySavingThread, started 130904898926144)>, <ParentPollerUnix(Thread-2, started daemon 130904890533440)>, <Thread(Thread-22 (worker), started 130904848569920)>, <Thread(Thread-23 (worker), started 130904882140736)>, <Thread(Thread-24 (worker), started 130904856962624)>]\n",
      "List of all threads after completion: [<_MainThread(MainThread, started 130905503266624)>, <Thread(IOPub, started daemon 130905432737344)>, <Heartbeat(Heartbeat, started daemon 130905424344640)>, <Thread(Thread-3 (_watch_pipe_fd), started daemon 130905399166528)>, <Thread(Thread-4 (_watch_pipe_fd), started daemon 130905390773824)>, <ControlThread(Control, started daemon 130905382381120)>, <HistorySavingThread(IPythonHistorySavingThread, started 130904898926144)>, <ParentPollerUnix(Thread-2, started daemon 130904890533440)>]\n"
     ]
    }
   ],
   "source": [
    "import threading\n",
    "import time\n",
    "\n",
    "def worker():\n",
    "    time.sleep(2)\n",
    "\n",
    "threads = [threading.Thread(target=worker) for _ in range(3)]\n",
    "for t in threads:\n",
    "    t.start()\n",
    "\n",
    "all_threads = threading.enumerate()\n",
    "print(f\"List of all threads: {all_threads}\")\n",
    "\n",
    "for t in threads:\n",
    "    t.join()\n",
    "\n",
    "all_threads_after = threading.enumerate()\n",
    "print(f\"List of all threads after completion: {all_threads_after}\")"
   ]
  },
  {
   "cell_type": "code",
   "execution_count": 13,
   "id": "5791d265-911f-4dd4-8879-141904ae41bb",
   "metadata": {},
   "outputs": [],
   "source": [
    "#Q3. Explain the following function: \n",
    "#1. run 2. start() \n",
    "#3.join() \n",
    "#4. is Alive()"
   ]
  },
  {
   "cell_type": "code",
   "execution_count": 14,
   "id": "ffc66ab6-b2b1-48b8-9fe1-981d074e7648",
   "metadata": {},
   "outputs": [
    {
     "name": "stdout",
     "output_type": "stream",
     "text": [
      "Thread is running\n"
     ]
    }
   ],
   "source": [
    "import threading\n",
    "\n",
    "class MyThread(threading.Thread):\n",
    "    def run(self):\n",
    "        print(\"Thread is running\")\n",
    "\n",
    "thread = MyThread()\n",
    "thread.start()"
   ]
  },
  {
   "cell_type": "code",
   "execution_count": 15,
   "id": "47cf6e15-1aef-4ed7-b1da-83b4c111d2f2",
   "metadata": {},
   "outputs": [
    {
     "name": "stdout",
     "output_type": "stream",
     "text": [
      "Thread is running\n"
     ]
    }
   ],
   "source": [
    "import threading\n",
    "\n",
    "def worker():\n",
    "    print(\"Thread is running\")\n",
    "\n",
    "thread = threading.Thread(target=worker)\n",
    "thread.start()"
   ]
  },
  {
   "cell_type": "code",
   "execution_count": 16,
   "id": "683a69fe-edbd-4a7d-8059-f08e8772d540",
   "metadata": {},
   "outputs": [
    {
     "name": "stdout",
     "output_type": "stream",
     "text": [
      "Thread is done\n",
      "Thread has finished\n"
     ]
    }
   ],
   "source": [
    "import threading\n",
    "import time\n",
    "\n",
    "def worker():\n",
    "    time.sleep(2)\n",
    "    print(\"Thread is done\")\n",
    "\n",
    "thread = threading.Thread(target=worker)\n",
    "thread.start()\n",
    "thread.join()\n",
    "print(\"Thread has finished\")"
   ]
  },
  {
   "cell_type": "code",
   "execution_count": 17,
   "id": "065f9e08-e1de-4746-a855-df19e468ea37",
   "metadata": {},
   "outputs": [
    {
     "name": "stdout",
     "output_type": "stream",
     "text": [
      "Is thread alive? True\n",
      "Thread is done\n",
      "Is thread alive after join? False\n"
     ]
    }
   ],
   "source": [
    "import threading\n",
    "import time\n",
    "\n",
    "def worker():\n",
    "    time.sleep(2)\n",
    "    print(\"Thread is done\")\n",
    "\n",
    "thread = threading.Thread(target=worker)\n",
    "thread.start()\n",
    "\n",
    "print(f\"Is thread alive? {thread.is_alive()}\")\n",
    "\n",
    "thread.join()\n",
    "\n",
    "print(f\"Is thread alive after join? {thread.is_alive()}\")"
   ]
  },
  {
   "cell_type": "code",
   "execution_count": 18,
   "id": "77ca47cf-c818-424e-b34e-2b9eb96406db",
   "metadata": {},
   "outputs": [],
   "source": [
    "#Q.4 Write a python program to create two threads. Thread one must print the list of squares and thread two must print the list of cubes."
   ]
  },
  {
   "cell_type": "code",
   "execution_count": 19,
   "id": "ab1a236d-1614-48a2-812f-e96b13baac14",
   "metadata": {},
   "outputs": [
    {
     "name": "stdout",
     "output_type": "stream",
     "text": [
      "Squares: [0, 1, 4, 9, 16, 25, 36, 49, 64, 81]\n",
      "Cubes: [0, 1, 8, 27, 64, 125, 216, 343, 512, 729]\n",
      "Both threads have finished.\n"
     ]
    }
   ],
   "source": [
    "import threading\n",
    "\n",
    "def print_squares():\n",
    "    squares = [x**2 for x in range(10)] \n",
    "    print(\"Squares:\", squares)\n",
    "\n",
    "def print_cubes():\n",
    "    cubes = [x**3 for x in range(10)] \n",
    "    print(\"Cubes:\", cubes)\n",
    "\n",
    "thread1 = threading.Thread(target=print_squares)\n",
    "thread2 = threading.Thread(target=print_cubes)\n",
    "\n",
    "thread1.start()\n",
    "thread2.start()\n",
    "\n",
    "thread1.join()\n",
    "thread2.join()\n",
    "\n",
    "print(\"Both threads have finished.\")"
   ]
  },
  {
   "cell_type": "code",
   "execution_count": 20,
   "id": "753808ea-46d0-4217-a159-d5b8534d1b9b",
   "metadata": {},
   "outputs": [],
   "source": [
    "#Q5.State advantages and disadvantages of multithreading."
   ]
  },
  {
   "cell_type": "code",
   "execution_count": null,
   "id": "a34b8418-9107-43fe-9a11-132232692ba3",
   "metadata": {},
   "outputs": [],
   "source": [
    "Advantages of Multithreading\n",
    "Improved Responsiveness:\n",
    "\n",
    "Multithreading allows an application to remain responsive to user interactions while performing background tasks. For example, in a GUI application, one thread can handle user input while another performs computations or handles I/O."
   ]
  },
  {
   "cell_type": "code",
   "execution_count": null,
   "id": "d284cd6d-654b-45d0-9db6-f2c6dd906ca0",
   "metadata": {},
   "outputs": [],
   "source": [
    "Better Resource Utilization:\n",
    "\n",
    "Multithreading can make better use of CPU resources by allowing multiple threads to run concurrently. This can be especially useful in systems with multiple CPU cores, where threads can be executed in parallel, potentially improving performance."
   ]
  },
  {
   "cell_type": "code",
   "execution_count": null,
   "id": "1afbaa7f-8aa2-4f23-8edb-b94893b452af",
   "metadata": {},
   "outputs": [],
   "source": [
    "Parallelism:\n",
    "\n",
    "Multithreading enables parallel execution of tasks, which can lead to significant performance improvements for certain types of operations, such as processing large datasets or performing complex calculations.\n"
   ]
  },
  {
   "cell_type": "code",
   "execution_count": null,
   "id": "782763d5-ad30-4b0f-9bc0-b0a7adfe6fd8",
   "metadata": {},
   "outputs": [],
   "source": [
    "Simplified Code Structure:\n",
    "\n",
    "For some problems, multithreading can simplify the code by dividing tasks into separate threads, which can lead to more organized and modular code. This is often seen in applications that perform multiple tasks simultaneously."
   ]
  },
  {
   "cell_type": "code",
   "execution_count": null,
   "id": "13e59483-f5fa-4797-9e65-432e8659ca1b",
   "metadata": {},
   "outputs": [],
   "source": [
    "Background Processing:\n",
    "\n",
    "Threads can be used to perform background processing or offload work from the main thread, such as downloading data, processing files, or performing network operations without blocking the main application flow."
   ]
  },
  {
   "cell_type": "code",
   "execution_count": null,
   "id": "1d767b61-9b19-4a59-842c-72e12d86e758",
   "metadata": {},
   "outputs": [],
   "source": [
    "Disadvantages of Multithreading\n",
    "Complexity:\n",
    "\n",
    "Multithreaded programming can introduce significant complexity to the code. Managing threads, synchronizing access to shared resources, and handling concurrent operations can be challenging and error-prone."
   ]
  },
  {
   "cell_type": "code",
   "execution_count": null,
   "id": "b2e15c0f-f2c3-43d5-817d-33981a3ed7b0",
   "metadata": {},
   "outputs": [],
   "source": [
    "Debugging Difficulty:\n",
    "\n",
    "Debugging multithreaded applications can be more difficult than single-threaded applications. Issues such as race conditions, deadlocks, and thread interference can be hard to reproduce and diagnose."
   ]
  },
  {
   "cell_type": "code",
   "execution_count": null,
   "id": "3a5b567a-4d9e-4a2d-b763-be257b3dc297",
   "metadata": {},
   "outputs": [],
   "source": [
    "Overhead:\n",
    "\n",
    "Creating and managing threads has overhead, such as memory consumption and context switching. Excessive threading can lead to performance degradation if the overhead outweighs the benefits."
   ]
  },
  {
   "cell_type": "code",
   "execution_count": null,
   "id": "cab440d8-c551-4cbc-9d3b-3e2a75608845",
   "metadata": {},
   "outputs": [],
   "source": [
    "Global Interpreter Lock (GIL) in Python:\n",
    "\n",
    "In Python, the Global Interpreter Lock (GIL) can limit the effectiveness of multithreading for CPU-bound tasks. The GIL allows only one thread to execute Python bytecode at a time, which can prevent true parallelism in CPU-bound operations."
   ]
  },
  {
   "cell_type": "code",
   "execution_count": null,
   "id": "d5822f4f-38df-4304-b5ad-390e1f683379",
   "metadata": {},
   "outputs": [],
   "source": [
    "Synchronization Issues:\n",
    "\n",
    "Threads often need to synchronize access to shared resources, which can lead to issues such as deadlocks, race conditions, and data corruption if not handled correctly. Proper synchronization mechanisms, like locks and semaphores, are required to ensure thread safety."
   ]
  },
  {
   "cell_type": "code",
   "execution_count": null,
   "id": "2f8d8986-7303-4580-b787-f0c4e31edae2",
   "metadata": {},
   "outputs": [],
   "source": [
    "Resource Contention:\n",
    "\n",
    "Multiple threads accessing shared resources can lead to contention and reduced performance. Proper management and optimization are needed to minimize contention and ensure efficient resource utilization."
   ]
  },
  {
   "cell_type": "code",
   "execution_count": null,
   "id": "a77f2fd0-3441-4ca4-ad36-aa49cf687d4f",
   "metadata": {},
   "outputs": [],
   "source": [
    "#Summary\n",
    "Advantages:\n",
    "\n",
    "Improved responsiveness for interactive applications.\n",
    "Better resource utilization and parallelism on multi-core systems.\n",
    "Simplified code structure for concurrent tasks.\n",
    "Background processing without blocking main application flow."
   ]
  },
  {
   "cell_type": "code",
   "execution_count": null,
   "id": "1419c1ac-a9f4-459c-97a0-756efde82a94",
   "metadata": {},
   "outputs": [],
   "source": [
    "#Disadvantages:\n",
    "\n",
    "Increased complexity and difficulty in managing and debugging code.\n",
    "Overhead associated with thread creation and management.\n",
    "GIL in Python limits parallelism for CPU-bound tasks.\n",
    "Synchronization issues such as deadlocks and race conditions.\n",
    "Resource contention and performance degradation with excessive threading."
   ]
  },
  {
   "cell_type": "code",
   "execution_count": 1,
   "id": "fe9d6824-8254-4a80-b83c-7a1ae3e1ecbb",
   "metadata": {},
   "outputs": [],
   "source": [
    "#Q.6 Explain deadlocks and race conditions"
   ]
  },
  {
   "cell_type": "code",
   "execution_count": null,
   "id": "10fbcbf1-1602-4cd2-934d-31bb7bea9d67",
   "metadata": {},
   "outputs": [],
   "source": [
    "#Deadlocks\n",
    "#Definition:\n",
    "\n",
    "#A deadlock is a situation in concurrent programming where two or more threads are each waiting for the other to release resources, causing all of them to be stuck in a state of waiting forever. This typically occurs when there is circular dependency on resources."
   ]
  },
  {
   "cell_type": "code",
   "execution_count": null,
   "id": "1fa3690f-d8a3-40cb-a38e-7ffe50200277",
   "metadata": {},
   "outputs": [],
   "source": [
    "Thread A → [Resource 1] → [Waiting for Resource 2]\n",
    "Thread B → [Resource 2] → [Waiting for Resource 1]"
   ]
  },
  {
   "cell_type": "code",
   "execution_count": null,
   "id": "4bbc5252-b560-45b3-8bf9-bb920cf25cae",
   "metadata": {},
   "outputs": [],
   "source": [
    "import threading\n",
    "import time\n",
    "\n",
    "lock1 = threading.Lock()\n",
    "lock2 = threading.Lock()\n",
    "\n",
    "def thread1_task():\n",
    "    with lock1:\n",
    "        print(\"Thread 1 acquired lock1\")\n",
    "        time.sleep(1)\n",
    "        with lock2:\n",
    "            print(\"Thread 1 acquired lock2\")\n",
    "\n",
    "def thread2_task():\n",
    "    with lock2:\n",
    "        print(\"Thread 2 acquired lock2\")\n",
    "        time.sleep(1)\n",
    "        with lock1:\n",
    "            print(\"Thread 2 acquired lock1\")\n",
    "\n",
    "thread1 = threading.Thread(target=thread1_task)\n",
    "thread2 = threading.Thread(target=thread2_task)\n",
    "\n",
    "thread1.start()\n",
    "thread2.start()\n",
    "\n",
    "thread1.join()\n",
    "thread2.join()"
   ]
  },
  {
   "cell_type": "code",
   "execution_count": null,
   "id": "7b43e038-2a5e-4561-9257-7ab80473083d",
   "metadata": {},
   "outputs": [],
   "source": [
    "#Race Conditions\n",
    "Definition:\n",
    "\n",
    "A race condition occurs when the outcome of a program depends on the timing or sequence of uncontrollable events, such as the order in which threads are scheduled. This can lead to inconsistent or incorrect results when multiple threads access shared resources simultaneously without proper synchronization."
   ]
  },
  {
   "cell_type": "code",
   "execution_count": null,
   "id": "14ad0d57-5f1c-44ad-829c-0f3d29cdb1d3",
   "metadata": {},
   "outputs": [],
   "source": [
    "Thread 1 → Read Counter (value = 10)\n",
    "Thread 2 → Read Counter (value = 10)\n",
    "Thread 1 → Write Counter (value = 11)\n",
    "Thread 2 → Write Counter (value = 11)"
   ]
  },
  {
   "cell_type": "code",
   "execution_count": null,
   "id": "3fbbbcab-9171-4f58-b22a-a4a6d9966829",
   "metadata": {},
   "outputs": [],
   "source": [
    "import threading\n",
    "\n",
    "counter = 0\n",
    "lock = threading.Lock()\n",
    "\n",
    "def increment_counter():\n",
    "    global counter\n",
    "    for _ in range(100000):\n",
    "        with lock:\n",
    "            counter += 1\n",
    "\n",
    "threads = [threading.Thread(target=increment_counter) for _ in range(2)]\n",
    "for thread in threads:\n",
    "    thread.start()\n",
    "for thread in threads:\n",
    "    thread.join()\n",
    "\n",
    "print(f\"Counter value: {counter}\")"
   ]
  }
 ],
 "metadata": {
  "kernelspec": {
   "display_name": "Python 3 (ipykernel)",
   "language": "python",
   "name": "python3"
  },
  "language_info": {
   "codemirror_mode": {
    "name": "ipython",
    "version": 3
   },
   "file_extension": ".py",
   "mimetype": "text/x-python",
   "name": "python",
   "nbconvert_exporter": "python",
   "pygments_lexer": "ipython3",
   "version": "3.10.8"
  }
 },
 "nbformat": 4,
 "nbformat_minor": 5
}
